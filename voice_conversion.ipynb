{
  "nbformat": 4,
  "nbformat_minor": 0,
  "metadata": {
    "colab": {
      "provenance": [],
      "authorship_tag": "ABX9TyPuO4G6C2FvszA6FBPexmdc",
      "include_colab_link": true
    },
    "kernelspec": {
      "name": "python3",
      "display_name": "Python 3"
    },
    "language_info": {
      "name": "python"
    }
  },
  "cells": [
    {
      "cell_type": "markdown",
      "metadata": {
        "id": "view-in-github",
        "colab_type": "text"
      },
      "source": [
        "<a href=\"https://colab.research.google.com/github/kim-jaeheon115/python/blob/main/voice_conversion.ipynb\" target=\"_parent\"><img src=\"https://colab.research.google.com/assets/colab-badge.svg\" alt=\"Open In Colab\"/></a>"
      ]
    },
    {
      "cell_type": "markdown",
      "source": [
        "###음성변환"
      ],
      "metadata": {
        "id": "uYZjA7Cio5q4"
      }
    },
    {
      "cell_type": "code",
      "execution_count": 1,
      "metadata": {
        "colab": {
          "base_uri": "https://localhost:8080/"
        },
        "id": "75zXDyrIovoE",
        "outputId": "752ca7ac-713d-4031-893e-42a30c14dc67"
      },
      "outputs": [
        {
          "output_type": "stream",
          "name": "stdout",
          "text": [
            "Collecting gtts\n",
            "  Downloading gTTS-2.4.0-py3-none-any.whl (29 kB)\n",
            "Requirement already satisfied: requests<3,>=2.27 in /usr/local/lib/python3.10/dist-packages (from gtts) (2.31.0)\n",
            "Requirement already satisfied: click<8.2,>=7.1 in /usr/local/lib/python3.10/dist-packages (from gtts) (8.1.7)\n",
            "Requirement already satisfied: charset-normalizer<4,>=2 in /usr/local/lib/python3.10/dist-packages (from requests<3,>=2.27->gtts) (3.3.2)\n",
            "Requirement already satisfied: idna<4,>=2.5 in /usr/local/lib/python3.10/dist-packages (from requests<3,>=2.27->gtts) (3.4)\n",
            "Requirement already satisfied: urllib3<3,>=1.21.1 in /usr/local/lib/python3.10/dist-packages (from requests<3,>=2.27->gtts) (2.0.7)\n",
            "Requirement already satisfied: certifi>=2017.4.17 in /usr/local/lib/python3.10/dist-packages (from requests<3,>=2.27->gtts) (2023.7.22)\n",
            "Installing collected packages: gtts\n",
            "Successfully installed gtts-2.4.0\n"
          ]
        }
      ],
      "source": [
        "# 모듈 설치 : 모듈(함수의 집합)\n",
        "!pip install gtts # Google Text to Speech"
      ]
    },
    {
      "cell_type": "code",
      "source": [
        "# 모듈 불러오기\n",
        "from gtts import gTTS\n",
        "from IPython.display import Audio"
      ],
      "metadata": {
        "id": "vTGfG6FUo5Ut"
      },
      "execution_count": 2,
      "outputs": []
    },
    {
      "cell_type": "code",
      "source": [
        "print('음성변환 프로그램 ver01')\n",
        "print()\n",
        "t=input(\"데이터입력:\")\n",
        "tts=gTTS(text=t,lang='ko')\n",
        "tts.save('test01.mp3')  #파일이 저장이됨\n",
        "display(Audio('test01.mp3', autoplay=True))"
      ],
      "metadata": {
        "colab": {
          "base_uri": "https://localhost:8080/",
          "height": 127
        },
        "id": "y8G9uXhTo_KI",
        "outputId": "76eaa3d6-d548-4f43-e43c-773fed447d3d"
      },
      "execution_count": 3,
      "outputs": [
        {
          "name": "stdout",
          "output_type": "stream",
          "text": [
            "음성변환 프로그램 ver01\n",
            "\n",
            "데이터입력:안녕\n"
          ]
        },
        {
          "output_type": "display_data",
          "data": {
            "text/plain": [
              "<IPython.lib.display.Audio object>"
            ],
            "text/html": [
              "\n",
              "                <audio  controls=\"controls\" autoplay=\"autoplay\">\n",
              "                    <source src=\"data:audio/mpeg;base64,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\" type=\"audio/mpeg\" />\n",
              "                    Your browser does not support the audio element.\n",
              "                </audio>\n",
              "              "
            ]
          },
          "metadata": {}
        }
      ]
    },
    {
      "cell_type": "code",
      "source": [
        "# 선택문\n",
        "print('음성변환 프로그램 ver01')\n",
        "print()\n",
        "t=input(\"음성인식할 데이터입력을 해주세요:\")\n",
        "lang = int(input(\"언어 지정을 부탇드립니다1번 한국어,2번 영어,3번 중국어 :\"))\n",
        "\n",
        "if lang==1:\n",
        "  print(\"1번 한국어로 실행합니다.\")\n",
        "  tts=gTTS(text=t,lang='ko')\n",
        "\n",
        "elif lang==2:\n",
        "   print(\"2번 영어로 실행합니다.\")\n",
        "   tts=gTTS(text=t,lang='en')\n",
        "\n",
        "else:\n",
        "   print(\"3번 일본어로 실행합니다.\")\n",
        "   tts=gTTS(text=t,lang='ja')\n",
        "\n",
        "tts.save('test01.mp3')  #파일이 저장이됨\n",
        "display(Audio('test01.mp3', autoplay=True))\n",
        "\n",
        "# https://info-lab.tistory.com/234"
      ],
      "metadata": {
        "colab": {
          "base_uri": "https://localhost:8080/",
          "height": 162
        },
        "id": "wY0paMqrpG2q",
        "outputId": "aed66adc-befc-40e0-a44f-3f3c3f63e038"
      },
      "execution_count": 4,
      "outputs": [
        {
          "output_type": "stream",
          "name": "stdout",
          "text": [
            "음성변환 프로그램 ver01\n",
            "\n",
            "음성인식할 데이터입력을 해주세요:안녕친구들\n",
            "언어 지정을 부탇드립니다1번 한국어,2번 영어,3번 중국어 :1\n",
            "1번 한국어로 실행합니다.\n"
          ]
        },
        {
          "output_type": "display_data",
          "data": {
            "text/plain": [
              "<IPython.lib.display.Audio object>"
            ],
            "text/html": [
              "\n",
              "                <audio  controls=\"controls\" autoplay=\"autoplay\">\n",
              "                    <source src=\"data:audio/mpeg;base64,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\" type=\"audio/mpeg\" />\n",
              "                    Your browser does not support the audio element.\n",
              "                </audio>\n",
              "              "
            ]
          },
          "metadata": {}
        }
      ]
    },
    {
      "cell_type": "code",
      "source": [
        "# 반복된 코드를 함수로 정의\n",
        "def play(lg): #함수를 받아서적기 떄문에 lg를 집어넣음\n",
        "  tts=gTTS(text=t,lang=lg)\n",
        "  tts.save('test01.mp3')\n",
        "  display(Audio('test01.mp3', autoplay=True))"
      ],
      "metadata": {
        "id": "V1jgNTyjpI6E"
      },
      "execution_count": 5,
      "outputs": []
    },
    {
      "cell_type": "code",
      "source": [
        "# 반복된 코드를 함수로 정의 2(매개변수)\n",
        "print('음성변환 프로그램 ver01')\n",
        "print()\n",
        "t=input(\"음성인식할 데이터입력을 해주세요:\")\n",
        "lang = int(input(\"언어 지정을 부탁드립니다. 1번 한국어,2번 영어,3번 중국어 :\"))\n",
        "\n",
        "if lang==1:\n",
        "  print(\"1번 한국어로 실행합니다.\")\n",
        "  lg='ko'\n",
        "\n",
        "elif lang==2:\n",
        "   print(\"2번 영어로 실행합니다.\")\n",
        "   lg='en'\n",
        "\n",
        "else:\n",
        "   print(\"3번 일본어로 실행합니다.\")\n",
        "   lg='ja'\n",
        "\n",
        "play(lg) #함수호출\n",
        "\n",
        "# https://info-lab.tistory.com/234"
      ],
      "metadata": {
        "id": "X9gUL0FqpKPp"
      },
      "execution_count": null,
      "outputs": []
    }
  ]
}