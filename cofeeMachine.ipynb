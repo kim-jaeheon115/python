{
  "nbformat": 4,
  "nbformat_minor": 0,
  "metadata": {
    "colab": {
      "provenance": [],
      "authorship_tag": "ABX9TyMk1TT0NaqPoEm29xCpxIBj",
      "include_colab_link": true
    },
    "kernelspec": {
      "name": "python3",
      "display_name": "Python 3"
    },
    "language_info": {
      "name": "python"
    }
  },
  "cells": [
    {
      "cell_type": "markdown",
      "metadata": {
        "id": "view-in-github",
        "colab_type": "text"
      },
      "source": [
        "<a href=\"https://colab.research.google.com/github/kim-jaeheon115/python/blob/main/cofeeMachine.ipynb\" target=\"_parent\"><img src=\"https://colab.research.google.com/assets/colab-badge.svg\" alt=\"Open In Colab\"/></a>"
      ]
    },
    {
      "cell_type": "markdown",
      "source": [
        "간단한 파이썬 커피자판기를 만들어보겠습니다."
      ],
      "metadata": {
        "id": "MIB8MK0nnHJy"
      }
    },
    {
      "cell_type": "code",
      "execution_count": 1,
      "metadata": {
        "colab": {
          "base_uri": "https://localhost:8080/",
          "height": 404
        },
        "id": "6kB_zMlWm5mc",
        "outputId": "ae67b766-bf41-4ca0-8076-3d39a9f60659"
      },
      "outputs": [
        {
          "name": "stdout",
          "output_type": "stream",
          "text": [
            "** 자판기 판매 메뉴 **\n",
            "1 : HotAmericano 2000\n",
            "2 : IceAmericano 2500\n",
            "3 : ice latte 3000\n",
            "4 : hot latte 3500\n",
            "\n",
            "돈을 투입하세요 : 10000\n",
            "\n",
            "메뉴 선택 (종료:0) : 1\n"
          ]
        },
        {
          "output_type": "error",
          "ename": "KeyError",
          "evalue": "ignored",
          "traceback": [
            "\u001b[0;31m---------------------------------------------------------------------------\u001b[0m",
            "\u001b[0;31mKeyError\u001b[0m                                  Traceback (most recent call last)",
            "\u001b[0;32m<ipython-input-1-4359b0b0ed5e>\u001b[0m in \u001b[0;36m<cell line: 16>\u001b[0;34m()\u001b[0m\n\u001b[1;32m     18\u001b[0m     \u001b[0;32mif\u001b[0m \u001b[0mkey\u001b[0m\u001b[0;34m==\u001b[0m\u001b[0;34m'0'\u001b[0m\u001b[0;34m:\u001b[0m\u001b[0;34m\u001b[0m\u001b[0;34m\u001b[0m\u001b[0m\n\u001b[1;32m     19\u001b[0m         \u001b[0;32mbreak\u001b[0m\u001b[0;34m\u001b[0m\u001b[0;34m\u001b[0m\u001b[0m\n\u001b[0;32m---> 20\u001b[0;31m     \u001b[0;32mif\u001b[0m \u001b[0mmoney\u001b[0m \u001b[0;34m<\u001b[0m\u001b[0mcoffee\u001b[0m\u001b[0;34m[\u001b[0m\u001b[0mkey\u001b[0m\u001b[0;34m]\u001b[0m\u001b[0;34m:\u001b[0m\u001b[0;34m\u001b[0m\u001b[0;34m\u001b[0m\u001b[0m\n\u001b[0m\u001b[1;32m     21\u001b[0m         \u001b[0mprint\u001b[0m\u001b[0;34m(\u001b[0m\u001b[0;34m'잔액부족'\u001b[0m\u001b[0;34m)\u001b[0m\u001b[0;34m\u001b[0m\u001b[0;34m\u001b[0m\u001b[0m\n\u001b[1;32m     22\u001b[0m     \u001b[0;32melse\u001b[0m\u001b[0;34m:\u001b[0m\u001b[0;34m\u001b[0m\u001b[0;34m\u001b[0m\u001b[0m\n",
            "\u001b[0;31mKeyError\u001b[0m: '1'"
          ]
        }
      ],
      "source": [
        "\n",
        "# 딕셔너리 초기화\n",
        "coffee={'HotAmericano':2000,'IceAmericano':2500,'ice latte':3000,'hot latte':3500}\n",
        "\n",
        "# 메뉴출력\n",
        "print('** 자판기 판매 메뉴 **')\n",
        "n=1\n",
        "for k in coffee.keys():\n",
        "    print(f'{n} : {k} {coffee[k]}')\n",
        "    n+=1\n",
        "print()\n",
        "\n",
        "money=int(input('돈을 투입하세요 : '))\n",
        "print()\n",
        "\n",
        "# 커피와 잔돈 출력\n",
        "while True:\n",
        "    key=input('메뉴 선택 (종료:0) : ')\n",
        "    if key=='0':\n",
        "        break\n",
        "    if money <coffee[key]:\n",
        "        print('잔액부족')\n",
        "    else:\n",
        "        print(coffee[key],'구입완료')\n",
        "        money=money-coffee[key]\n",
        "\n",
        "    print('잔액: ', money)\n",
        "    print()\n",
        "\n",
        "# 동전교환\n",
        "c500 = money//500 # 500원 개수\n",
        "change=money%500\n",
        "\n",
        "c100 = change//100  # 100원 개수\n",
        "\n",
        "print('자판기 종료')\n",
        "print(f'500원 {c500}개 반환')\n",
        "print(f'100원 {c100}개 반환')\n"
      ]
    },
    {
      "cell_type": "markdown",
      "source": [
        "다른 방법으로 만들어보기 (Dictionary)"
      ],
      "metadata": {
        "id": "xxoaG9JAnt2-"
      }
    },
    {
      "cell_type": "code",
      "source": [
        "# 자율실습문제1_ver2\n",
        "\n",
        "# 딕셔너리 초기화\n",
        "coffee={1:['뜨아',2000],2:['아아',3000],3:['라떼',3500],4:['모카',4000]}\n",
        "\n",
        "def order(m):\n",
        "  coffee={1:['아메리카노',2500],2:['카페라떼',3000],3:['카페모카',3500]}\n",
        "  if m in coffee.keys():\n",
        "    print(f'{coffee[m][0]}의 금액은 {coffee[m][1]}원 입니다.')\n",
        "  else:\n",
        "    print('존재하지 않는 메뉴입니다.')\n",
        "\n",
        "# 메뉴출력\n",
        "print('** 자판기 판매 메뉴 **')\n",
        "\n",
        "for k in coffee.keys():\n",
        "    print(f'{k} : {coffee[k][0]} {coffee[k][1]}')\n",
        "print()\n",
        "\n",
        "money=int(input('돈을 투입하세요 : '))\n",
        "print()\n",
        "\n",
        "# 커피와 잔돈 출력\n",
        "while True:\n",
        "    key=int(input('메뉴 선택 (종료:0) : '))\n",
        "    if key==0:\n",
        "        break\n",
        "    if money <coffee[key][1]:\n",
        "        print('잔액부족')\n",
        "    else:\n",
        "        print(coffee[key][0],'구입완료')\n",
        "        money=money-coffee[key][1]\n",
        "\n",
        "    print('잔액: ', money)\n",
        "    print()\n",
        "\n",
        "# 동전교환\n",
        "c500 = money//500 # 500원 개수\n",
        "change=money%500\n",
        "\n",
        "c100 = change//100  # 100원 개수\n",
        "\n",
        "print('자판기 종료')\n",
        "print(f'500원 {c500}개 반환')\n",
        "print(f'100원 {c100}개 반환')\n"
      ],
      "metadata": {
        "id": "gOLdehAXntNd"
      },
      "execution_count": null,
      "outputs": []
    }
  ]
}